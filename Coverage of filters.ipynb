{
 "cells": [
  {
   "cell_type": "code",
   "execution_count": 4,
   "id": "2d71c4be",
   "metadata": {},
   "outputs": [
    {
     "name": "stdout",
     "output_type": "stream",
     "text": [
      "Collecting package metadata (current_repodata.json): ...working... done\n",
      "Solving environment: ...working... done\n",
      "\n",
      "## Package Plan ##\n",
      "\n",
      "  environment location: C:\\Users\\yyash\\anaconda3\n",
      "\n",
      "  added / updated specs:\n",
      "Note: you may need to restart the kernel to use updated packages.\n"
     ]
    },
    {
     "name": "stderr",
     "output_type": "stream",
     "text": [
      "\n",
      "\n",
      "==> WARNING: A newer version of conda exists. <==\n",
      "  current version: 4.12.0\n",
      "  latest version: 4.14.0\n",
      "\n",
      "Please update conda by running\n",
      "\n",
      "    $ conda update -n base -c defaults conda\n",
      "\n",
      "\n"
     ]
    },
    {
     "name": "stdout",
     "output_type": "stream",
     "text": [
      "\n",
      "    - dlib\n",
      "\n",
      "\n",
      "The following packages will be downloaded:\n",
      "\n",
      "    package                    |            build\n",
      "    ---------------------------|-----------------\n",
      "    conda-4.14.0               |   py39hcbf5309_0         1.0 MB  conda-forge\n",
      "    dlib-19.24.0               |   py39hf8509d4_0         4.4 MB  conda-forge\n",
      "    python_abi-3.9             |           2_cp39           4 KB  conda-forge\n",
      "    ------------------------------------------------------------\n",
      "                                           Total:         5.5 MB\n",
      "\n",
      "The following NEW packages will be INSTALLED:\n",
      "\n",
      "  dlib               conda-forge/win-64::dlib-19.24.0-py39hf8509d4_0\n",
      "  python_abi         conda-forge/win-64::python_abi-3.9-2_cp39\n",
      "\n",
      "The following packages will be UPDATED:\n",
      "\n",
      "  conda              pkgs/main::conda-4.12.0-py39haa95532_0 --> conda-forge::conda-4.14.0-py39hcbf5309_0\n",
      "\n",
      "\n",
      "\n",
      "Downloading and Extracting Packages\n",
      "\n",
      "python_abi-3.9       | 4 KB      |            |   0% \n",
      "python_abi-3.9       | 4 KB      | ########## | 100% \n",
      "python_abi-3.9       | 4 KB      | ########## | 100% \n",
      "\n",
      "dlib-19.24.0         | 4.4 MB    |            |   0% \n",
      "dlib-19.24.0         | 4.4 MB    | 1          |   1% \n",
      "dlib-19.24.0         | 4.4 MB    | 7          |   8% \n",
      "dlib-19.24.0         | 4.4 MB    | ##6        |  26% \n",
      "dlib-19.24.0         | 4.4 MB    | ####8      |  49% \n",
      "dlib-19.24.0         | 4.4 MB    | #####9     |  59% \n",
      "dlib-19.24.0         | 4.4 MB    | ######8    |  69% \n",
      "dlib-19.24.0         | 4.4 MB    | ########## | 100% \n",
      "dlib-19.24.0         | 4.4 MB    | ########## | 100% \n",
      "\n",
      "conda-4.14.0         | 1.0 MB    |            |   0% \n",
      "conda-4.14.0         | 1.0 MB    | ###        |  31% \n",
      "conda-4.14.0         | 1.0 MB    | ########## | 100% \n",
      "conda-4.14.0         | 1.0 MB    | ########## | 100% \n",
      "Preparing transaction: ...working... done\n",
      "Verifying transaction: ...working... done\n",
      "Executing transaction: ...working... done\n"
     ]
    }
   ],
   "source": [
    "conda install -c conda-forge dlib"
   ]
  },
  {
   "cell_type": "code",
   "execution_count": 5,
   "id": "e2d8cecd",
   "metadata": {},
   "outputs": [
    {
     "name": "stdout",
     "output_type": "stream",
     "text": [
      "Collecting cmake\n",
      "  Downloading cmake-3.24.1.1-py2.py3-none-win_amd64.whl (39.7 MB)\n",
      "Installing collected packages: cmake\n",
      "Successfully installed cmake-3.24.1.1\n",
      "Collecting face_recognition\n",
      "  Downloading face_recognition-1.3.0-py2.py3-none-any.whl (15 kB)\n",
      "Requirement already satisfied: dlib>=19.7 in c:\\users\\yyash\\anaconda3\\lib\\site-packages (from face_recognition) (19.24.0)\n",
      "Collecting face-recognition-models>=0.3.0\n",
      "  Downloading face_recognition_models-0.3.0.tar.gz (100.1 MB)\n",
      "Requirement already satisfied: Pillow in c:\\users\\yyash\\anaconda3\\lib\\site-packages (from face_recognition) (9.0.1)\n",
      "Requirement already satisfied: Click>=6.0 in c:\\users\\yyash\\anaconda3\\lib\\site-packages (from face_recognition) (8.0.4)\n",
      "Requirement already satisfied: numpy in c:\\users\\yyash\\anaconda3\\lib\\site-packages (from face_recognition) (1.21.5)\n",
      "Requirement already satisfied: colorama in c:\\users\\yyash\\anaconda3\\lib\\site-packages (from Click>=6.0->face_recognition) (0.4.4)\n",
      "Building wheels for collected packages: face-recognition-models\n",
      "  Building wheel for face-recognition-models (setup.py): started\n",
      "  Building wheel for face-recognition-models (setup.py): finished with status 'done'\n",
      "  Created wheel for face-recognition-models: filename=face_recognition_models-0.3.0-py2.py3-none-any.whl size=100566186 sha256=e438cb22ab3bfc78f4c789c5838d7cadd94a1678e65ca84c8eb946cf0fa0c1f4\n",
      "  Stored in directory: c:\\users\\yyash\\appdata\\local\\pip\\cache\\wheels\\22\\a8\\60\\4a2aeb763d63f50190f4c4e07069a22245347eeafdb3a67551\n",
      "Successfully built face-recognition-models\n",
      "Installing collected packages: face-recognition-models, face-recognition\n",
      "Successfully installed face-recognition-1.3.0 face-recognition-models-0.3.0\n"
     ]
    }
   ],
   "source": [
    "!pip install cmake\n",
    "!pip install face_recognition"
   ]
  },
  {
   "cell_type": "code",
   "execution_count": 9,
   "id": "470f624c",
   "metadata": {},
   "outputs": [
    {
     "name": "stdout",
     "output_type": "stream",
     "text": [
      "Collecting imutils\n",
      "  Downloading imutils-0.5.4.tar.gz (17 kB)\n",
      "Building wheels for collected packages: imutils\n",
      "  Building wheel for imutils (setup.py): started\n",
      "  Building wheel for imutils (setup.py): finished with status 'done'\n",
      "  Created wheel for imutils: filename=imutils-0.5.4-py3-none-any.whl size=25872 sha256=5e61aa2edfb7d199ddc94ccf3a163d9f341bcd547fe13757466609c78f29cfd1\n",
      "  Stored in directory: c:\\users\\yyash\\appdata\\local\\pip\\cache\\wheels\\4b\\a5\\2d\\4a070a801d3a3d93f033d3ee9728f470f514826e89952df3ea\n",
      "Successfully built imutils\n",
      "Installing collected packages: imutils\n",
      "Successfully installed imutils-0.5.4\n"
     ]
    }
   ],
   "source": [
    "!pip install imutils"
   ]
  },
  {
   "cell_type": "code",
   "execution_count": 3,
   "id": "7b19a00c",
   "metadata": {},
   "outputs": [
    {
     "name": "stdout",
     "output_type": "stream",
     "text": [
      "[0.03822199249544475]\n",
      "[0.03822199249544475, 0.23965752183803463]\n",
      "[0.03822199249544475, 0.23965752183803463, 0.11925964431302828]\n",
      "[0.03822199249544475, 0.23965752183803463, 0.11925964431302828, 0.13761506053121084]\n",
      "[0.03822199249544475, 0.23965752183803463, 0.11925964431302828, 0.13761506053121084, 0.04595638011457292]\n",
      "[0.03822199249544475, 0.23965752183803463, 0.11925964431302828, 0.13761506053121084, 0.04595638011457292, 0.241939258193498]\n",
      "[0.03822199249544475, 0.23965752183803463, 0.11925964431302828, 0.13761506053121084, 0.04595638011457292, 0.241939258193498, 0.12144863851319508]\n",
      "[0.03822199249544475, 0.23965752183803463, 0.11925964431302828, 0.13761506053121084, 0.04595638011457292, 0.241939258193498, 0.12144863851319508, 0.28010783143787144]\n",
      "[0.03822199249544475, 0.23965752183803463, 0.11925964431302828, 0.13761506053121084, 0.04595638011457292, 0.241939258193498, 0.12144863851319508, 0.28010783143787144, 0.23714202226393435]\n",
      "[0.03822199249544475, 0.23965752183803463, 0.11925964431302828, 0.13761506053121084, 0.04595638011457292, 0.241939258193498, 0.12144863851319508, 0.28010783143787144, 0.23714202226393435, 0.07265657448865322]\n"
     ]
    }
   ],
   "source": [
    "# Coverage of the face and filter\n",
    "import dlib\n",
    "from imutils import face_utils\n",
    "import os\n",
    "import numpy as np\n",
    "import skimage\n",
    "from scipy.spatial import ConvexHull\n",
    "import cv2\n",
    "\n",
    "def cropFacePolygon(image_path, detector, predictor):\n",
    "    img = dlib.load_rgb_image(image_path)\n",
    "    # img\n",
    "    rect = detector(img)[0]\n",
    "    sp = predictor(img, rect)\n",
    "    landmarks = np.array([[p.x, p.y] for p in sp.parts()])\n",
    "\n",
    "    outline = landmarks[[*range(17), *range(26,16,-1)]]\n",
    "\n",
    "    Y, X = skimage.draw.polygon(outline[:,1], outline[:,0])\n",
    "\n",
    "    cropped_img = np.zeros(img.shape, dtype=np.uint8)\n",
    "    cropped_img[Y, X] = img[Y, X]\n",
    "\n",
    "    cropped_img = cv2.cvtColor(cropped_img, cv2.COLOR_RGB2BGR)\n",
    "    return cropped_img\n",
    "\n",
    "\n",
    "\n",
    "\n",
    "detector = dlib.get_frontal_face_detector()\n",
    "predictor = dlib.shape_predictor(\"shape_predictor_68_face_landmarks.dat\")\n",
    "\n",
    "for i in range(1, 123):\n",
    "    src_path = os.path.join(\"Dataset\",\"Face Dataset\", str(i))\n",
    "    \n",
    "    src_image_path = os.path.join(src_path, str(i) + \".jpg\")\n",
    "    baseline_img = cropFacePolygon(src_image_path, detector, predictor)\n",
    "    \n",
    "    pose_path = os.path.join(src_path, \"Filtered\")\n",
    "    cov = []\n",
    "    for l in range(1, 11):\n",
    "        \n",
    "        pose_image_path = os.path.join(pose_path, str(i) + \"_\" + str(l) + \".jpg\")\n",
    "    \n",
    "        filtered_img = cropFacePolygon(pose_image_path, detector, predictor)\n",
    "    \n",
    "        rows,cols,_ = filtered_img.shape\n",
    "\n",
    "        dif = 0\n",
    "        tot = 0\n",
    "        for j in range(rows):\n",
    "            for k in range(cols):\n",
    "                m = abs(np.int64(filtered_img[j, k, 0]) - np.int64(baseline_img[j, k, 0])) + abs(np.int64(filtered_img[j, k, 1]) - np.int64(baseline_img[j, k, 1])) + abs(np.int64(filtered_img[j, k, 2]) - np.int64(baseline_img[j, k, 2]))\n",
    "                dif = dif + m\n",
    "                tot += np.int64(baseline_img[j, k, 0]) + np.int64(baseline_img[j, k, 1]) + np.int64(baseline_img[j, k, 2])\n",
    "\n",
    "\n",
    "        # x100 to get %\n",
    "        coverage = dif / tot \n",
    "#         print(coverage)\n",
    "        cov.append(coverage)\n",
    "        print(cov)\n",
    "    break"
   ]
  },
  {
   "cell_type": "code",
   "execution_count": 29,
   "id": "7b347864",
   "metadata": {},
   "outputs": [],
   "source": []
  },
  {
   "cell_type": "code",
   "execution_count": 30,
   "id": "58e4549e",
   "metadata": {},
   "outputs": [],
   "source": []
  },
  {
   "cell_type": "code",
   "execution_count": null,
   "id": "190bf521",
   "metadata": {},
   "outputs": [],
   "source": []
  }
 ],
 "metadata": {
  "kernelspec": {
   "display_name": "Python 3 (ipykernel)",
   "language": "python",
   "name": "python3"
  },
  "language_info": {
   "codemirror_mode": {
    "name": "ipython",
    "version": 3
   },
   "file_extension": ".py",
   "mimetype": "text/x-python",
   "name": "python",
   "nbconvert_exporter": "python",
   "pygments_lexer": "ipython3",
   "version": "3.9.0"
  }
 },
 "nbformat": 4,
 "nbformat_minor": 5
}
