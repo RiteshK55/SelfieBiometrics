{
 "cells": [
  {
   "cell_type": "code",
   "execution_count": 7,
   "id": "5ff36a8e",
   "metadata": {},
   "outputs": [
    {
     "name": "stdout",
     "output_type": "stream",
     "text": [
      "Requirement already satisfied: tensorflow in c:\\users\\shubham\\appdata\\local\\programs\\python\\python39\\lib\\site-packages (2.11.0)\n",
      "Requirement already satisfied: matplotlib in c:\\users\\shubham\\appdata\\local\\programs\\python\\python39\\lib\\site-packages (3.6.2)\n",
      "Requirement already satisfied: deepface in c:\\users\\shubham\\appdata\\local\\programs\\python\\python39\\lib\\site-packages (0.0.75)\n",
      "Requirement already satisfied: scikit-learn in c:\\users\\shubham\\appdata\\local\\programs\\python\\python39\\lib\\site-packages (1.2.0)\n",
      "Requirement already satisfied: tensorflow-intel==2.11.0; platform_system == \"Windows\" in c:\\users\\shubham\\appdata\\local\\programs\\python\\python39\\lib\\site-packages (from tensorflow) (2.11.0)\n",
      "Requirement already satisfied: packaging>=20.0 in c:\\users\\shubham\\appdata\\local\\programs\\python\\python39\\lib\\site-packages (from matplotlib) (21.3)\n",
      "Requirement already satisfied: numpy>=1.19 in c:\\users\\shubham\\appdata\\local\\programs\\python\\python39\\lib\\site-packages (from matplotlib) (1.23.4)\n",
      "Requirement already satisfied: python-dateutil>=2.7 in c:\\users\\shubham\\appdata\\local\\programs\\python\\python39\\lib\\site-packages (from matplotlib) (2.8.2)\n",
      "Requirement already satisfied: pyparsing>=2.2.1 in c:\\users\\shubham\\appdata\\local\\programs\\python\\python39\\lib\\site-packages (from matplotlib) (3.0.9)\n",
      "Requirement already satisfied: cycler>=0.10 in c:\\users\\shubham\\appdata\\local\\programs\\python\\python39\\lib\\site-packages (from matplotlib) (0.11.0)\n",
      "Requirement already satisfied: contourpy>=1.0.1 in c:\\users\\shubham\\appdata\\local\\programs\\python\\python39\\lib\\site-packages (from matplotlib) (1.0.6)\n",
      "Requirement already satisfied: kiwisolver>=1.0.1 in c:\\users\\shubham\\appdata\\local\\programs\\python\\python39\\lib\\site-packages (from matplotlib) (1.4.4)\n",
      "Requirement already satisfied: fonttools>=4.22.0 in c:\\users\\shubham\\appdata\\local\\programs\\python\\python39\\lib\\site-packages (from matplotlib) (4.38.0)\n",
      "Requirement already satisfied: pillow>=6.2.0 in c:\\users\\shubham\\appdata\\local\\programs\\python\\python39\\lib\\site-packages (from matplotlib) (9.3.0)\n",
      "Requirement already satisfied: Flask>=1.1.2 in c:\\users\\shubham\\appdata\\local\\programs\\python\\python39\\lib\\site-packages (from deepface) (2.2.2)\n",
      "Requirement already satisfied: opencv-python>=4.5.5.64 in c:\\users\\shubham\\appdata\\local\\programs\\python\\python39\\lib\\site-packages (from deepface) (4.6.0.66)\n",
      "Requirement already satisfied: tqdm>=4.30.0 in c:\\users\\shubham\\appdata\\local\\programs\\python\\python39\\lib\\site-packages (from deepface) (4.64.1)\n",
      "Requirement already satisfied: keras>=2.2.0 in c:\\users\\shubham\\appdata\\local\\programs\\python\\python39\\lib\\site-packages (from deepface) (2.11.0)\n",
      "Requirement already satisfied: gdown>=3.10.1 in c:\\users\\shubham\\appdata\\local\\programs\\python\\python39\\lib\\site-packages (from deepface) (4.5.3)\n",
      "Requirement already satisfied: fire>=0.4.0 in c:\\users\\shubham\\appdata\\local\\programs\\python\\python39\\lib\\site-packages (from deepface) (0.4.0)\n",
      "Requirement already satisfied: retina-face>=0.0.1 in c:\\users\\shubham\\appdata\\local\\programs\\python\\python39\\lib\\site-packages (from deepface) (0.0.12)\n",
      "Requirement already satisfied: pandas>=0.23.4 in c:\\users\\shubham\\appdata\\local\\programs\\python\\python39\\lib\\site-packages (from deepface) (1.5.2)\n",
      "Requirement already satisfied: mtcnn>=0.1.0 in c:\\users\\shubham\\appdata\\local\\programs\\python\\python39\\lib\\site-packages (from deepface) (0.1.1)\n",
      "Requirement already satisfied: threadpoolctl>=2.0.0 in c:\\users\\shubham\\appdata\\local\\programs\\python\\python39\\lib\\site-packages (from scikit-learn) (3.1.0)\n",
      "Requirement already satisfied: joblib>=1.1.1 in c:\\users\\shubham\\appdata\\local\\programs\\python\\python39\\lib\\site-packages (from scikit-learn) (1.2.0)\n",
      "Requirement already satisfied: scipy>=1.3.2 in c:\\users\\shubham\\appdata\\local\\programs\\python\\python39\\lib\\site-packages (from scikit-learn) (1.9.3)\n",
      "Requirement already satisfied: astunparse>=1.6.0 in c:\\users\\shubham\\appdata\\local\\programs\\python\\python39\\lib\\site-packages (from tensorflow-intel==2.11.0; platform_system == \"Windows\"->tensorflow) (1.6.3)\n",
      "Requirement already satisfied: libclang>=13.0.0 in c:\\users\\shubham\\appdata\\local\\programs\\python\\python39\\lib\\site-packages (from tensorflow-intel==2.11.0; platform_system == \"Windows\"->tensorflow) (14.0.6)\n",
      "Requirement already satisfied: six>=1.12.0 in c:\\users\\shubham\\appdata\\local\\programs\\python\\python39\\lib\\site-packages (from tensorflow-intel==2.11.0; platform_system == \"Windows\"->tensorflow) (1.16.0)\n",
      "Requirement already satisfied: absl-py>=1.0.0 in c:\\users\\shubham\\appdata\\local\\programs\\python\\python39\\lib\\site-packages (from tensorflow-intel==2.11.0; platform_system == \"Windows\"->tensorflow) (1.3.0)\n",
      "Requirement already satisfied: protobuf<3.20,>=3.9.2 in c:\\users\\shubham\\appdata\\local\\programs\\python\\python39\\lib\\site-packages (from tensorflow-intel==2.11.0; platform_system == \"Windows\"->tensorflow) (3.19.6)\n",
      "Requirement already satisfied: gast<=0.4.0,>=0.2.1 in c:\\users\\shubham\\appdata\\local\\programs\\python\\python39\\lib\\site-packages (from tensorflow-intel==2.11.0; platform_system == \"Windows\"->tensorflow) (0.4.0)\n",
      "Requirement already satisfied: h5py>=2.9.0 in c:\\users\\shubham\\appdata\\local\\programs\\python\\python39\\lib\\site-packages (from tensorflow-intel==2.11.0; platform_system == \"Windows\"->tensorflow) (3.7.0)\n",
      "Requirement already satisfied: opt-einsum>=2.3.2 in c:\\users\\shubham\\appdata\\local\\programs\\python\\python39\\lib\\site-packages (from tensorflow-intel==2.11.0; platform_system == \"Windows\"->tensorflow) (3.3.0)\n",
      "Requirement already satisfied: wrapt>=1.11.0 in c:\\users\\shubham\\appdata\\local\\programs\\python\\python39\\lib\\site-packages (from tensorflow-intel==2.11.0; platform_system == \"Windows\"->tensorflow) (1.14.1)\n",
      "Requirement already satisfied: setuptools in c:\\users\\shubham\\appdata\\local\\programs\\python\\python39\\lib\\site-packages (from tensorflow-intel==2.11.0; platform_system == \"Windows\"->tensorflow) (49.2.1)\n",
      "Requirement already satisfied: tensorboard<2.12,>=2.11 in c:\\users\\shubham\\appdata\\local\\programs\\python\\python39\\lib\\site-packages (from tensorflow-intel==2.11.0; platform_system == \"Windows\"->tensorflow) (2.11.0)\n",
      "Requirement already satisfied: grpcio<2.0,>=1.24.3 in c:\\users\\shubham\\appdata\\local\\programs\\python\\python39\\lib\\site-packages (from tensorflow-intel==2.11.0; platform_system == \"Windows\"->tensorflow) (1.50.0)\n",
      "Requirement already satisfied: google-pasta>=0.1.1 in c:\\users\\shubham\\appdata\\local\\programs\\python\\python39\\lib\\site-packages (from tensorflow-intel==2.11.0; platform_system == \"Windows\"->tensorflow) (0.2.0)\n",
      "Requirement already satisfied: termcolor>=1.1.0 in c:\\users\\shubham\\appdata\\local\\programs\\python\\python39\\lib\\site-packages (from tensorflow-intel==2.11.0; platform_system == \"Windows\"->tensorflow) (2.1.0)\n",
      "Requirement already satisfied: tensorflow-estimator<2.12,>=2.11.0 in c:\\users\\shubham\\appdata\\local\\programs\\python\\python39\\lib\\site-packages (from tensorflow-intel==2.11.0; platform_system == \"Windows\"->tensorflow) (2.11.0)\n",
      "Requirement already satisfied: flatbuffers>=2.0 in c:\\users\\shubham\\appdata\\local\\programs\\python\\python39\\lib\\site-packages (from tensorflow-intel==2.11.0; platform_system == \"Windows\"->tensorflow) (22.10.26)\n",
      "Requirement already satisfied: typing-extensions>=3.6.6 in c:\\users\\shubham\\appdata\\local\\programs\\python\\python39\\lib\\site-packages (from tensorflow-intel==2.11.0; platform_system == \"Windows\"->tensorflow) (4.4.0)\n",
      "Requirement already satisfied: tensorflow-io-gcs-filesystem>=0.23.1; platform_machine != \"arm64\" or platform_system != \"Darwin\" in c:\\users\\shubham\\appdata\\local\\programs\\python\\python39\\lib\\site-packages (from tensorflow-intel==2.11.0; platform_system == \"Windows\"->tensorflow) (0.27.0)\n",
      "Requirement already satisfied: itsdangerous>=2.0 in c:\\users\\shubham\\appdata\\local\\programs\\python\\python39\\lib\\site-packages (from Flask>=1.1.2->deepface) (2.1.2)\n",
      "Requirement already satisfied: click>=8.0 in c:\\users\\shubham\\appdata\\local\\programs\\python\\python39\\lib\\site-packages (from Flask>=1.1.2->deepface) (8.1.3)\n",
      "Requirement already satisfied: Jinja2>=3.0 in c:\\users\\shubham\\appdata\\local\\programs\\python\\python39\\lib\\site-packages (from Flask>=1.1.2->deepface) (3.1.2)\n",
      "Requirement already satisfied: Werkzeug>=2.2.2 in c:\\users\\shubham\\appdata\\local\\programs\\python\\python39\\lib\\site-packages (from Flask>=1.1.2->deepface) (2.2.2)\n",
      "Requirement already satisfied: importlib-metadata>=3.6.0; python_version < \"3.10\" in c:\\users\\shubham\\appdata\\local\\programs\\python\\python39\\lib\\site-packages (from Flask>=1.1.2->deepface) (5.0.0)\n",
      "Requirement already satisfied: colorama; platform_system == \"Windows\" in c:\\users\\shubham\\appdata\\local\\programs\\python\\python39\\lib\\site-packages (from tqdm>=4.30.0->deepface) (0.4.6)\n",
      "Requirement already satisfied: requests[socks] in c:\\users\\shubham\\appdata\\local\\programs\\python\\python39\\lib\\site-packages (from gdown>=3.10.1->deepface) (2.28.1)\n",
      "Requirement already satisfied: filelock in c:\\users\\shubham\\appdata\\local\\programs\\python\\python39\\lib\\site-packages (from gdown>=3.10.1->deepface) (3.8.0)\n",
      "Requirement already satisfied: beautifulsoup4 in c:\\users\\shubham\\appdata\\local\\programs\\python\\python39\\lib\\site-packages (from gdown>=3.10.1->deepface) (4.11.1)\n",
      "Requirement already satisfied: pytz>=2020.1 in c:\\users\\shubham\\appdata\\local\\programs\\python\\python39\\lib\\site-packages (from pandas>=0.23.4->deepface) (2022.6)\n",
      "Requirement already satisfied: wheel<1.0,>=0.23.0 in c:\\users\\shubham\\appdata\\local\\programs\\python\\python39\\lib\\site-packages (from astunparse>=1.6.0->tensorflow-intel==2.11.0; platform_system == \"Windows\"->tensorflow) (0.38.4)\n",
      "Requirement already satisfied: google-auth<3,>=1.6.3 in c:\\users\\shubham\\appdata\\local\\programs\\python\\python39\\lib\\site-packages (from tensorboard<2.12,>=2.11->tensorflow-intel==2.11.0; platform_system == \"Windows\"->tensorflow) (2.14.1)\n",
      "Requirement already satisfied: markdown>=2.6.8 in c:\\users\\shubham\\appdata\\local\\programs\\python\\python39\\lib\\site-packages (from tensorboard<2.12,>=2.11->tensorflow-intel==2.11.0; platform_system == \"Windows\"->tensorflow) (3.4.1)\n",
      "Requirement already satisfied: google-auth-oauthlib<0.5,>=0.4.1 in c:\\users\\shubham\\appdata\\local\\programs\\python\\python39\\lib\\site-packages (from tensorboard<2.12,>=2.11->tensorflow-intel==2.11.0; platform_system == \"Windows\"->tensorflow) (0.4.6)\n",
      "Requirement already satisfied: tensorboard-plugin-wit>=1.6.0 in c:\\users\\shubham\\appdata\\local\\programs\\python\\python39\\lib\\site-packages (from tensorboard<2.12,>=2.11->tensorflow-intel==2.11.0; platform_system == \"Windows\"->tensorflow) (1.8.1)\n",
      "Requirement already satisfied: tensorboard-data-server<0.7.0,>=0.6.0 in c:\\users\\shubham\\appdata\\local\\programs\\python\\python39\\lib\\site-packages (from tensorboard<2.12,>=2.11->tensorflow-intel==2.11.0; platform_system == \"Windows\"->tensorflow) (0.6.1)\n",
      "Requirement already satisfied: MarkupSafe>=2.0 in c:\\users\\shubham\\appdata\\local\\programs\\python\\python39\\lib\\site-packages (from Jinja2>=3.0->Flask>=1.1.2->deepface) (2.1.1)\n",
      "Requirement already satisfied: zipp>=0.5 in c:\\users\\shubham\\appdata\\local\\programs\\python\\python39\\lib\\site-packages (from importlib-metadata>=3.6.0; python_version < \"3.10\"->Flask>=1.1.2->deepface) (3.10.0)\n",
      "Requirement already satisfied: urllib3<1.27,>=1.21.1 in c:\\users\\shubham\\appdata\\local\\programs\\python\\python39\\lib\\site-packages (from requests[socks]->gdown>=3.10.1->deepface) (1.26.12)\n",
      "Requirement already satisfied: idna<4,>=2.5 in c:\\users\\shubham\\appdata\\local\\programs\\python\\python39\\lib\\site-packages (from requests[socks]->gdown>=3.10.1->deepface) (3.4)\n",
      "Requirement already satisfied: charset-normalizer<3,>=2 in c:\\users\\shubham\\appdata\\local\\programs\\python\\python39\\lib\\site-packages (from requests[socks]->gdown>=3.10.1->deepface) (2.1.1)\n",
      "Requirement already satisfied: certifi>=2017.4.17 in c:\\users\\shubham\\appdata\\local\\programs\\python\\python39\\lib\\site-packages (from requests[socks]->gdown>=3.10.1->deepface) (2022.9.24)\n",
      "Requirement already satisfied: PySocks!=1.5.7,>=1.5.6; extra == \"socks\" in c:\\users\\shubham\\appdata\\local\\programs\\python\\python39\\lib\\site-packages (from requests[socks]->gdown>=3.10.1->deepface) (1.7.1)\n",
      "Requirement already satisfied: soupsieve>1.2 in c:\\users\\shubham\\appdata\\local\\programs\\python\\python39\\lib\\site-packages (from beautifulsoup4->gdown>=3.10.1->deepface) (2.3.2.post1)\n",
      "Requirement already satisfied: pyasn1-modules>=0.2.1 in c:\\users\\shubham\\appdata\\local\\programs\\python\\python39\\lib\\site-packages (from google-auth<3,>=1.6.3->tensorboard<2.12,>=2.11->tensorflow-intel==2.11.0; platform_system == \"Windows\"->tensorflow) (0.2.8)\n",
      "Requirement already satisfied: cachetools<6.0,>=2.0.0 in c:\\users\\shubham\\appdata\\local\\programs\\python\\python39\\lib\\site-packages (from google-auth<3,>=1.6.3->tensorboard<2.12,>=2.11->tensorflow-intel==2.11.0; platform_system == \"Windows\"->tensorflow) (5.2.0)\n",
      "Requirement already satisfied: rsa<5,>=3.1.4; python_version >= \"3.6\" in c:\\users\\shubham\\appdata\\local\\programs\\python\\python39\\lib\\site-packages (from google-auth<3,>=1.6.3->tensorboard<2.12,>=2.11->tensorflow-intel==2.11.0; platform_system == \"Windows\"->tensorflow) (4.9)\n",
      "Requirement already satisfied: requests-oauthlib>=0.7.0 in c:\\users\\shubham\\appdata\\local\\programs\\python\\python39\\lib\\site-packages (from google-auth-oauthlib<0.5,>=0.4.1->tensorboard<2.12,>=2.11->tensorflow-intel==2.11.0; platform_system == \"Windows\"->tensorflow) (1.3.1)\n",
      "Requirement already satisfied: pyasn1<0.5.0,>=0.4.6 in c:\\users\\shubham\\appdata\\local\\programs\\python\\python39\\lib\\site-packages (from pyasn1-modules>=0.2.1->google-auth<3,>=1.6.3->tensorboard<2.12,>=2.11->tensorflow-intel==2.11.0; platform_system == \"Windows\"->tensorflow) (0.4.8)\n",
      "Requirement already satisfied: oauthlib>=3.0.0 in c:\\users\\shubham\\appdata\\local\\programs\\python\\python39\\lib\\site-packages (from requests-oauthlib>=0.7.0->google-auth-oauthlib<0.5,>=0.4.1->tensorboard<2.12,>=2.11->tensorflow-intel==2.11.0; platform_system == \"Windows\"->tensorflow) (3.2.2)\n"
     ]
    },
    {
     "name": "stderr",
     "output_type": "stream",
     "text": [
      "WARNING: You are using pip version 20.2.3; however, version 23.0.1 is available.\n",
      "You should consider upgrading via the 'c:\\users\\shubham\\appdata\\local\\programs\\python\\python39\\python.exe -m pip install --upgrade pip' command.\n"
     ]
    }
   ],
   "source": [
    "! pip install tensorflow matplotlib deepface scikit-learn"
   ]
  },
  {
   "cell_type": "code",
   "execution_count": 8,
   "id": "27c200e2",
   "metadata": {},
   "outputs": [],
   "source": [
    "from deepface import DeepFace\n",
    "import matplotlib.pyplot as plt\n",
    "import cv2\n",
    "import numpy as np\n",
    "import os\n",
    "import glob\n",
    "import PIL"
   ]
  },
  {
   "cell_type": "code",
   "execution_count": 9,
   "id": "8fe763ea",
   "metadata": {},
   "outputs": [],
   "source": [
    "data_dir = os.path.join(\"Dataset\", \"Image_Data\") "
   ]
  },
  {
   "cell_type": "code",
   "execution_count": 12,
   "id": "6db44f02",
   "metadata": {},
   "outputs": [],
   "source": [
    "# plt.imsave(\"face2.jpg\", img1)\n",
    "preprocessed_dir = os.path.join(\"Dataset\", \"Preprocessed_Data\") "
   ]
  },
  {
   "cell_type": "code",
   "execution_count": 15,
   "id": "f9e4fbdb",
   "metadata": {},
   "outputs": [],
   "source": [
    "for person_no in range(1, 103):\n",
    "    person_dir = os.path.join(preprocessed_dir, str(person_no))\n",
    "    if not os.path.exists(person_dir):\n",
    "        os.makedirs(person_dir)\n",
    "    \n",
    "    person_dir_raw = os.path.join(data_dir, str(person_no))\n",
    "    \n",
    "    for file in os.listdir(person_dir_raw):\n",
    "        filepath = os.path.join(person_dir_raw, file)\n",
    "        face_img = DeepFace.detectFace(img_path = filepath, target_size = (256, 256), detector_backend = 'retinaface')\n",
    "        plt.imsave(os.path.join(person_dir, file), face_img)"
   ]
  },
  {
   "cell_type": "code",
   "execution_count": null,
   "id": "1fc68202",
   "metadata": {},
   "outputs": [],
   "source": []
  }
 ],
 "metadata": {
  "kernelspec": {
   "display_name": "Python 3 (ipykernel)",
   "language": "python",
   "name": "python3"
  },
  "language_info": {
   "codemirror_mode": {
    "name": "ipython",
    "version": 3
   },
   "file_extension": ".py",
   "mimetype": "text/x-python",
   "name": "python",
   "nbconvert_exporter": "python",
   "pygments_lexer": "ipython3",
   "version": "3.9.0"
  }
 },
 "nbformat": 4,
 "nbformat_minor": 5
}
